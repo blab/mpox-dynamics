{
 "cells": [
  {
   "cell_type": "markdown",
   "id": "955c84d8",
   "metadata": {},
   "source": [
    "# Masking invariant sites from multi-sequence alignment \n",
    "### This script generates a BED file for use with `augur mask`\n",
    "### Requires VCF from aligned fasta.  "
   ]
  },
  {
   "cell_type": "markdown",
   "id": "fbbd7b83",
   "metadata": {},
   "source": [
    "Use [snp-sites](https://github.com/sanger-pathogens/snp-sites) to generate VCF from alignment file: \n",
    "    \n",
    "    `snp-sites -v -o snps.vcf aligned.fasta`\n"
   ]
  },
  {
   "cell_type": "code",
   "execution_count": 1,
   "id": "649d524e",
   "metadata": {},
   "outputs": [],
   "source": [
    "import pandas as pd \n",
    "import numpy as np\n",
    "import re \n",
    "\n",
    "from pysam import VariantFile\n",
    "from random import sample\n",
    "\n",
    "vcf_path = \"../monkeypox-build/results/hmpxv1/snps.vcf\"\n",
    "bed_file_path = \"../monkeypox-build/config/mask.bed\"\n",
    "bed_file_out = \"../monkeypox-build/config/to_mask.bed\"\n",
    "stats_out = \"../out/masking/masked_300_HQ.txt\""
   ]
  },
  {
   "cell_type": "code",
   "execution_count": 2,
   "id": "3729d4c6",
   "metadata": {},
   "outputs": [],
   "source": [
    "# read in VCF\n",
    "vcf = VariantFile(vcf_path)\n",
    "\n",
    "# get alignment length\n",
    "alignment_length = 0 \n",
    "for rec in vcf.header.records:\n",
    "    match = (re.compile(\"\\d{5}\\d\")).search(str(rec))\n",
    "    if match:\n",
    "        alignment_length = int(match.group())\n",
    "\n",
    "# get variant sites, store in snps[] \n",
    "snps = [] \n",
    "for snp in vcf.fetch():\n",
    "    snps.append(snp.pos)\n",
    "\n",
    "#get invariant sites, store in invar[] \n",
    "invar = []\n",
    "for i in range(1, (alignment_length+1)):\n",
    "    if i not in snps:\n",
    "        invar.append(i)\n",
    "    \n",
    "#get fraction of variants vs invariants \n",
    "var_frac = round((len(snps)/alignment_length),3)\n",
    "mono_frac = 1 - var_frac\n",
    "\n",
    "\n",
    "## sample a random 90% of invar[] to remove\n",
    "prune = int(0.9*alignment_length) \n",
    "remove = sample(invar,prune)\n"
   ]
  },
  {
   "cell_type": "markdown",
   "id": "a8e0adcc",
   "metadata": {},
   "source": [
    "### Append invariants to BED file\n",
    "Note: BED text format uses 0-based positions + half-open notation range \n",
    "      The VCF position POS is 1-based "
   ]
  },
  {
   "cell_type": "code",
   "execution_count": 3,
   "id": "08605126",
   "metadata": {},
   "outputs": [],
   "source": [
    "# import existing mask.bed file\n",
    "bed = pd.read_csv(bed_file_path, delimiter='\\t')\n",
    "bed_out = pd.read_csv(bed_file_path, delimiter='\\t')\n",
    "\n",
    "# append sites-to-mask\n",
    "bed_out = bed_out.reindex(list(range(0, (len(bed)+prune)))).reset_index(drop=True) \n",
    "bed_out.loc[:,'Chrom'] = 'chr'\n",
    "\n",
    "chrom_start = [x - 1 for x in remove]\n",
    "bed_out.loc[len(bed):len(bed)+prune, 'ChromStart'] = chrom_start\n",
    " \n",
    "bed_out.loc[len(bed):len(bed)+prune, 'ChromEnd'] = remove\n",
    "\n",
    "# add description \n",
    "bed_out.loc[len(bed):len(bed)+prune, 'Comment'] = 'invariant site'\n",
    "\n",
    "# float to int\n",
    "bed_out['ChromStart'] = bed_out['ChromStart'].astype(int)\n",
    "bed_out['ChromEnd'] = bed_out['ChromEnd'].astype(int)"
   ]
  },
  {
   "cell_type": "code",
   "execution_count": 4,
   "id": "96ce9bc5",
   "metadata": {},
   "outputs": [],
   "source": [
    "bed_out.to_csv(bed_file_out, sep ='\\t', index=False)"
   ]
  },
  {
   "cell_type": "code",
   "execution_count": 5,
   "id": "a9124edb",
   "metadata": {
    "scrolled": true
   },
   "outputs": [
    {
     "name": "stdout",
     "output_type": "stream",
     "text": [
      "before pruning:\n",
      "alignment length: 197209\n",
      "variable sites: 1527 ( 0.008 %)\n",
      "invariant sites: 195682 ( 0.992 %)\n",
      "\n",
      "\n",
      "after pruning:\n",
      "alignment length: 19721 (removed 177488 sites)\n",
      "variable sites: 1527 ( 0.077 %)\n",
      "invariant sites: 18194 ( 0.923 %)\n"
     ]
    }
   ],
   "source": [
    "# report basic stats\n",
    "\n",
    "print(\"before pruning:\")\n",
    "print(\"alignment length:\", alignment_length)\n",
    "print(\"variable sites:\", len(snps), '(',var_frac,'%)')\n",
    "print(\"invariant sites:\", len(invar), '(', mono_frac,'%)')\n",
    "print(\"\\n\")\n",
    "print(\"after pruning:\")\n",
    "print(\"alignment length:\", (len(invar) - prune) + len(snps), '(removed', prune, 'sites)' )  \n",
    "print(\"variable sites:\", len(snps),\n",
    "      '(',round(  (len(snps) / ((len(invar) - prune)+len(snps))) ,3),'%)')\n",
    "print(\"invariant sites:\", len(invar) - prune, \n",
    "      '(', round( (len(invar)-prune) / ((len(invar) - prune)+len(snps)),3  )  ,'%)')"
   ]
  },
  {
   "cell_type": "code",
   "execution_count": 28,
   "id": "e772fc4c",
   "metadata": {},
   "outputs": [],
   "source": [
    "# write stats to txt file  \n",
    "\n",
    "l1 = \"\\n # before pruning:\"\n",
    "l2 = \"\\n # alignment length:\" + str(alignment_length) \n",
    "l3 = \"\\n # variable sites:\" + str(len(snps)) + '(' + str(var_frac)+ '%)'\n",
    "l4 = \"\\n # invariant sites:\" + str(len(invar)) + '(' + str(mono_frac) + '%)'\n",
    "l5 = \"\\n # after pruning:\"\n",
    "l6 = \"\\n # alignment length:\" + str((len(invar) - prune) + len(snps)) + '(removed' + str( prune) + 'sites)' \n",
    "l7 = \"\\n # variable sites:\" +  str(len(snps)) +'(' + str(round(  (len(snps) / ((len(invar) - prune)+len(snps))) ,3)) + '%)'\n",
    "l8 = \"\\n # invariant sites:\" + str(len(invar) - prune) + '(' + str(round( (len(invar)-prune) / ((len(invar) - prune)+len(snps)),3  ))  + '%)'\n",
    "\n",
    "\n",
    "with open(stats_out, 'a') as file:\n",
    "    file.writelines([l1, l2, l3, l4, l5, l6, l7, l8])"
   ]
  },
  {
   "cell_type": "code",
   "execution_count": null,
   "id": "990a5807",
   "metadata": {},
   "outputs": [],
   "source": []
  }
 ],
 "metadata": {
  "kernelspec": {
   "display_name": "Python 3 (ipykernel)",
   "language": "python",
   "name": "python3"
  },
  "language_info": {
   "codemirror_mode": {
    "name": "ipython",
    "version": 3
   },
   "file_extension": ".py",
   "mimetype": "text/x-python",
   "name": "python",
   "nbconvert_exporter": "python",
   "pygments_lexer": "ipython3",
   "version": "3.8.13"
  }
 },
 "nbformat": 4,
 "nbformat_minor": 5
}
